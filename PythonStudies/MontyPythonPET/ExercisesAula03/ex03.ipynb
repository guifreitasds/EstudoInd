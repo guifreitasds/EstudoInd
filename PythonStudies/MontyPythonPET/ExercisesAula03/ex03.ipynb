{
 "cells": [
  {
   "cell_type": "code",
   "execution_count": 1,
   "metadata": {},
   "outputs": [
    {
     "name": "stdout",
     "output_type": "stream",
     "text": [
      "Hello, World!\n"
     ]
    }
   ],
   "source": [
    "print('Hello, World!')"
   ]
  },
  {
   "cell_type": "code",
   "execution_count": 4,
   "metadata": {},
   "outputs": [
    {
     "name": "stdout",
     "output_type": "stream",
     "text": [
      "O número informado foi 9\n"
     ]
    }
   ],
   "source": [
    "n = int(input('Digite um número: '))\n",
    "print(f'O número informado foi {n}')"
   ]
  },
  {
   "cell_type": "code",
   "execution_count": 6,
   "metadata": {},
   "outputs": [
    {
     "name": "stdout",
     "output_type": "stream",
     "text": [
      "A soma de 17+13=30\n"
     ]
    }
   ],
   "source": [
    "n1 = int(input('Digite um 1° número: '))\n",
    "n2 = int(input('Digite um 2° número: '))\n",
    "\n",
    "print(f'A soma de {n1}+{n2}={n1+n2}')"
   ]
  },
  {
   "cell_type": "code",
   "execution_count": 12,
   "metadata": {},
   "outputs": [
    {
     "name": "stdout",
     "output_type": "stream",
     "text": [
      "O número 0 é nulo\n"
     ]
    }
   ],
   "source": [
    "n1 = int(input('Digite um número: '))\n",
    "\n",
    "if n1>0:\n",
    "    print(f'O número {n1} é positivo')\n",
    "elif n1<0:\n",
    "    print(f'O número {n1} é negativo')\n",
    "else:\n",
    "    print(f'O número {n1} é nulo')"
   ]
  },
  {
   "cell_type": "code",
   "execution_count": 18,
   "metadata": {},
   "outputs": [
    {
     "name": "stdout",
     "output_type": "stream",
     "text": [
      "Gênero inválido\n"
     ]
    }
   ],
   "source": [
    "gender = str(input('Qual é o seu gênero? [F/M]').upper())\n",
    "\n",
    "if gender=='F':\n",
    "    print(f'{gender} - Feminino')\n",
    "elif gender=='M':\n",
    "    print(f'{gender} - Masculino')\n",
    "else:\n",
    "    print('Gênero inválido')"
   ]
  },
  {
   "cell_type": "code",
   "execution_count": 13,
   "metadata": {},
   "outputs": [
    {
     "name": "stdout",
     "output_type": "stream",
     "text": [
      "Os números 2 e 2 são iguais\n"
     ]
    }
   ],
   "source": [
    "n1 = int(input('Digite o 1° número: '))\n",
    "n2 = int(input('Digite a 2° número: '))\n",
    "\n",
    "if n1>n2:\n",
    "    print(f'O número maior é {n1}')\n",
    "elif n1<n2:\n",
    "    print(f'O número maior é {n2}')\n",
    "else:\n",
    "    print(f'Os números {n1} e {n2} são iguais')"
   ]
  }
 ],
 "metadata": {
  "kernelspec": {
   "display_name": "Python 3.10.8 64-bit (microsoft store)",
   "language": "python",
   "name": "python3"
  },
  "language_info": {
   "codemirror_mode": {
    "name": "ipython",
    "version": 3
   },
   "file_extension": ".py",
   "mimetype": "text/x-python",
   "name": "python",
   "nbconvert_exporter": "python",
   "pygments_lexer": "ipython3",
   "version": "3.10.8"
  },
  "orig_nbformat": 4,
  "vscode": {
   "interpreter": {
    "hash": "d6f154a560802d64277e424ab716cbb72e450074a8138f9ecd5efb59b2418ec4"
   }
  }
 },
 "nbformat": 4,
 "nbformat_minor": 2
}

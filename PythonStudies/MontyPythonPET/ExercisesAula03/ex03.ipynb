{
 "cells": [
  {
   "cell_type": "code",
   "execution_count": 1,
   "metadata": {},
   "outputs": [
    {
     "name": "stdout",
     "output_type": "stream",
     "text": [
      "Hello, World!\n"
     ]
    }
   ],
   "source": [
    "print('Hello, World!')"
   ]
  },
  {
   "cell_type": "code",
   "execution_count": 4,
   "metadata": {},
   "outputs": [
    {
     "name": "stdout",
     "output_type": "stream",
     "text": [
      "O número informado foi 9\n"
     ]
    }
   ],
   "source": [
    "n = int(input('Digite um número: '))\n",
    "print(f'O número informado foi {n}')"
   ]
  },
  {
   "cell_type": "code",
   "execution_count": 6,
   "metadata": {},
   "outputs": [
    {
     "name": "stdout",
     "output_type": "stream",
     "text": [
      "A soma de 17+13=30\n"
     ]
    }
   ],
   "source": [
    "n1 = int(input('Digite um 1° número: '))\n",
    "n2 = int(input('Digite um 2° número: '))\n",
    "\n",
    "print(f'A soma de {n1}+{n2}={n1+n2}')"
   ]
  },
  {
   "cell_type": "code",
   "execution_count": 2,
   "metadata": {},
   "outputs": [
    {
     "name": "stdout",
     "output_type": "stream",
     "text": [
      "A média entre as notas é de 7.25\n"
     ]
    }
   ],
   "source": [
    "n1 = float(input('Digite a 1a nota: '))\n",
    "n2 = float(input('Digite a 2a nota: '))\n",
    "n3 = float(input('Digite a 3a nota: '))\n",
    "n4 = float(input('Digite a 4a nota: '))\n",
    "\n",
    "print(f\"A média entre as notas é de {(n1+n2+n3+n4)/4:.2f}\")"
   ]
  },
  {
   "cell_type": "code",
   "execution_count": 1,
   "metadata": {},
   "outputs": [
    {
     "name": "stdout",
     "output_type": "stream",
     "text": [
      "180.0cm = 1.8\n"
     ]
    }
   ],
   "source": [
    "centi = float(input('Digite uma medida para ser convertida de cm para m: '))\n",
    "\n",
    "print(f'{centi}cm = {centi/100:.2f}m')"
   ]
  },
  {
   "cell_type": "code",
   "execution_count": null,
   "metadata": {},
   "outputs": [],
   "source": [
    "r = float(input('Digite o raio do círculo: '))\n",
    "\n",
    "print(f\"A área do círculo é de: {3.14*(r*r)}\")"
   ]
  },
  {
   "cell_type": "code",
   "execution_count": null,
   "metadata": {},
   "outputs": [],
   "source": [
    "l = float(input('Digite o tamanho dos lados do quadrado: '))\n",
    "\n",
    "print(f'A área do quadrado é {l*l}, já o dobro dela é {l*l*2}')"
   ]
  },
  {
   "cell_type": "code",
   "execution_count": null,
   "metadata": {},
   "outputs": [],
   "source": [
    "h = float(input('Quanto vale a sua hora? R$'))\n",
    "t = int(input('Quantas horas você trabalha por dia? '))\n",
    "\n",
    "print(f'\\033[34mVocê ganha: R${h*(t*30)} por mês\\033[m')"
   ]
  },
  {
   "cell_type": "code",
   "execution_count": null,
   "metadata": {},
   "outputs": [],
   "source": [
    "f = float(input('Digite a temperatura em fahrenheit: '))\n",
    "\n",
    "celsius = ((f-32)/1.8)\n",
    "print(f'A temperatura em celsius é de: {celsius}C')"
   ]
  },
  {
   "cell_type": "code",
   "execution_count": null,
   "metadata": {},
   "outputs": [],
   "source": [
    "c = float(input('Digite a temperatura em celsius: '))\n",
    "fahrenheit = ((c*1.8)+32)\n",
    "print(f'A temperatura em Fahrenheit é de: {fahrenheit}F')"
   ]
  },
  {
   "cell_type": "markdown",
   "metadata": {},
   "source": [
    "**Estrutura de Decisão**"
   ]
  },
  {
   "cell_type": "code",
   "execution_count": 12,
   "metadata": {},
   "outputs": [
    {
     "name": "stdout",
     "output_type": "stream",
     "text": [
      "O número 0 é nulo\n"
     ]
    }
   ],
   "source": [
    "n1 = int(input('Digite um número: '))\n",
    "\n",
    "if n1>0:\n",
    "    print(f'O número {n1} é positivo')\n",
    "elif n1<0:\n",
    "    print(f'O número {n1} é negativo')\n",
    "else:\n",
    "    print(f'O número {n1} é nulo')"
   ]
  },
  {
   "cell_type": "code",
   "execution_count": 20,
   "metadata": {},
   "outputs": [
    {
     "name": "stdout",
     "output_type": "stream",
     "text": [
      "M - Masculino\n"
     ]
    }
   ],
   "source": [
    "gender = str(input('Qual é o seu gênero? [F/M]').upper())\n",
    "\n",
    "if gender=='F':\n",
    "    print(f'{gender} - Feminino')\n",
    "elif gender=='M':\n",
    "    print(f'{gender} - Masculino')\n",
    "else:\n",
    "    print('Gênero inválido')"
   ]
  },
  {
   "cell_type": "code",
   "execution_count": 13,
   "metadata": {},
   "outputs": [
    {
     "name": "stdout",
     "output_type": "stream",
     "text": [
      "Os números 2 e 2 são iguais\n"
     ]
    }
   ],
   "source": [
    "n1 = int(input('Digite o 1° número: '))\n",
    "n2 = int(input('Digite a 2° número: '))\n",
    "\n",
    "if n1>n2:\n",
    "    print(f'O número maior é {n1}')\n",
    "elif n1<n2:\n",
    "    print(f'O número maior é {n2}')\n",
    "else:\n",
    "    print(f'Os números {n1} e {n2} são iguais')"
   ]
  },
  {
   "cell_type": "code",
   "execution_count": null,
   "metadata": {},
   "outputs": [],
   "source": [
    "x = str(input('Digite uma letra: ')).lower().strip()[0]\n",
    "\n",
    "if x not in 'aeiou':\n",
    "    print(f'\"{x}\" é consoante!')\n",
    "else:\n",
    "    print(f'\"{x}\" é vogal!')"
   ]
  },
  {
   "cell_type": "code",
   "execution_count": null,
   "metadata": {},
   "outputs": [],
   "source": [
    "n1 = float(input('Digite a 1a nota: '))\n",
    "n2 = float(input('Digite a 2a nota: '))\n",
    "\n",
    "media = (n1 + n2) / 2\n",
    "\n",
    "if media >= 7 and media < 10:\n",
    "    print('Aluno aprovado')\n",
    "elif media < 7:\n",
    "    print('Aluno reprovado!')\n",
    "elif media == 10:\n",
    "    print('Aluno aprovado com distinção!')"
   ]
  },
  {
   "cell_type": "code",
   "execution_count": null,
   "metadata": {},
   "outputs": [],
   "source": [
    "n1 = int(input('Digite um número: '))\n",
    "n2 = int(input('Digite outro número: '))\n",
    "n3 = int(input('Digite o último número: '))\n",
    "\n",
    "if n1 > n2 and n1 > n3:\n",
    "    print(f'O maior número é {n1}')\n",
    "elif n2 > n1 and n2 > n3:\n",
    "    print(f'O maior número é {n2}')\n",
    "elif n3 > n1 and n3 > n2:\n",
    "    print(f'O maior número é {n3}')\n",
    "else:\n",
    "    print('Números iguais')"
   ]
  },
  {
   "cell_type": "code",
   "execution_count": null,
   "metadata": {},
   "outputs": [],
   "source": [
    "n1 = int(input('Digite um número: '))\n",
    "n2 = int(input('Digite outro número: '))\n",
    "n3 = int(input('Digite o último número: '))\n",
    "\n",
    "if n1 > n2 and n1 > n3:\n",
    "    print(f'O maior número é {n1}')\n",
    "    if n2 > n3:\n",
    "        print(f'E o menor é {n3}')\n",
    "    else:\n",
    "        print(f'E o menor é {n2}')\n",
    "elif n2 > n1 and n2 > n3:\n",
    "    print(f'O maior número é {n2}')\n",
    "    if n1 > n3:\n",
    "        print(f'E o menor é {n3}')\n",
    "    else:\n",
    "        print(f'E o menor é {n1}')\n",
    "elif n3 > n1 and n3 > n2:\n",
    "    print(f'O maior número é {n3}')\n",
    "    if n1 > n2:\n",
    "        print(f'E o menor é {n2}')\n",
    "    else:\n",
    "        print(f'E o menor é {n1}')\n",
    "else:\n",
    "    print('Números iguais')"
   ]
  },
  {
   "cell_type": "code",
   "execution_count": null,
   "metadata": {},
   "outputs": [],
   "source": [
    "n1 = int(input(('Digite o preço do 1o produto: R$'))\n",
    "n2 = int(input('Digite o preço do 2o produto: R$'))\n",
    "n3 = int(input('Digite o preço do 3o produto: R$'))\n",
    "\n",
    "if n1 < n2 and n1 < n3:\n",
    "    print(f'Compre o primeiro produto que custa R${n1:.2f}')\n",
    "elif n2 < n1 and n2 < n3:\n",
    "    print(f'Compre o segundo produto que custa R${n2:.2f}')\n",
    "elif n3 < n1 and n3 < n2:\n",
    "    print(f'Compre o terceiro produto que custa R${n3:.2f}')\n",
    "else:\n",
    "    print('Preços iguais, escolha por você!')"
   ]
  },
  {
   "cell_type": "code",
   "execution_count": null,
   "metadata": {},
   "outputs": [],
   "source": [
    "n1 = int(input('Digite um número: '))\n",
    "n2 = int(input('Digite outro número: '))\n",
    "n3 = int(input('Digite o último número: '))\n",
    "\n",
    "if n1 > n2 and n1 > n3:\n",
    "    print(f'{n1},', end='')\n",
    "    if n2 > n3:\n",
    "        print(f' {n2}, {n3}', end='')\n",
    "    else:\n",
    "        print(f' {n3}, {n2}', end='')\n",
    "elif n2 > n1 and n2 > n3:\n",
    "    print(f'{n2},', end='')\n",
    "    if n1 > n3:\n",
    "        print(f' {n1}, {n3}', end='')\n",
    "    else:\n",
    "        print(f' {n3}, {n1}', end='')\n",
    "elif n3 > n1 and n3 > n2:\n",
    "    print(f'{n3},', end='')\n",
    "    if n1 > n2:\n",
    "        print(f' {n1}, {n2}', end='')\n",
    "    else:\n",
    "        print(f' {n2}, {n1}', end='')\n",
    "else:\n",
    "    print('Números iguais')"
   ]
  }
 ],
 "metadata": {
  "kernelspec": {
   "display_name": "Python 3.10.8 64-bit (microsoft store)",
   "language": "python",
   "name": "python3"
  },
  "language_info": {
   "codemirror_mode": {
    "name": "ipython",
    "version": 3
   },
   "file_extension": ".py",
   "mimetype": "text/x-python",
   "name": "python",
   "nbconvert_exporter": "python",
   "pygments_lexer": "ipython3",
   "version": "3.10.8"
  },
  "orig_nbformat": 4,
  "vscode": {
   "interpreter": {
    "hash": "d6f154a560802d64277e424ab716cbb72e450074a8138f9ecd5efb59b2418ec4"
   }
  }
 },
 "nbformat": 4,
 "nbformat_minor": 2
}

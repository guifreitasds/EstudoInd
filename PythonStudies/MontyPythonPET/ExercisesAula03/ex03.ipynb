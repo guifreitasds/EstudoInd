{
 "cells": [
  {
   "cell_type": "markdown",
   "metadata": {},
   "source": [
    "1. **Faça um Programa que mostre a mensagem \"Hello, World!\" na tela.**"
   ]
  },
  {
   "cell_type": "code",
   "execution_count": 1,
   "metadata": {},
   "outputs": [
    {
     "name": "stdout",
     "output_type": "stream",
     "text": [
      "Hello, World!\n"
     ]
    }
   ],
   "source": [
    "print('Hello, World!')"
   ]
  },
  {
   "cell_type": "markdown",
   "metadata": {},
   "source": [
    "2. **Faça um Programa que peça um número e então mostre a mensagem: \"O número informado foi [número]\".**"
   ]
  },
  {
   "cell_type": "code",
   "execution_count": 4,
   "metadata": {},
   "outputs": [
    {
     "name": "stdout",
     "output_type": "stream",
     "text": [
      "O número informado foi 9\n"
     ]
    }
   ],
   "source": [
    "n = int(input('Digite um número: '))\n",
    "print(f'O número informado foi {n}')"
   ]
  },
  {
   "cell_type": "markdown",
   "metadata": {},
   "source": [
    "3. **Faça um Programa que peça dois números e imprima a soma.**"
   ]
  },
  {
   "cell_type": "code",
   "execution_count": 6,
   "metadata": {},
   "outputs": [
    {
     "name": "stdout",
     "output_type": "stream",
     "text": [
      "A soma de 17+13=30\n"
     ]
    }
   ],
   "source": [
    "n1 = int(input('Digite um 1° número: '))\n",
    "n2 = int(input('Digite um 2° número: '))\n",
    "\n",
    "print(f'A soma de {n1}+{n2}={n1+n2}')"
   ]
  },
  {
   "cell_type": "markdown",
   "metadata": {},
   "source": [
    "4. **Faça um Programa que peça as 4 notas bimestrais e mostre a média.**"
   ]
  },
  {
   "cell_type": "code",
   "execution_count": 2,
   "metadata": {},
   "outputs": [
    {
     "name": "stdout",
     "output_type": "stream",
     "text": [
      "A média entre as notas é de 7.25\n"
     ]
    }
   ],
   "source": [
    "n1 = float(input('Digite a 1a nota: '))\n",
    "n2 = float(input('Digite a 2a nota: '))\n",
    "n3 = float(input('Digite a 3a nota: '))\n",
    "n4 = float(input('Digite a 4a nota: '))\n",
    "\n",
    "print(f\"A média entre as notas é de {(n1+n2+n3+n4)/4:.2f}\")"
   ]
  },
  {
   "cell_type": "markdown",
   "metadata": {},
   "source": [
    "5. **5. Faça um Programa que converta metros para centímetros.**"
   ]
  },
  {
   "cell_type": "code",
   "execution_count": 1,
   "metadata": {},
   "outputs": [
    {
     "name": "stdout",
     "output_type": "stream",
     "text": [
      "180.0cm = 1.8\n"
     ]
    }
   ],
   "source": [
    "centi = float(input('Digite uma medida para ser convertida de cm para m: '))\n",
    "\n",
    "print(f'{centi}cm = {centi/100:.2f}m')"
   ]
  },
  {
   "cell_type": "markdown",
   "metadata": {},
   "source": [
    "6. **Faça um Programa que peça o raio de um círculo, calcule e mostre sua área.**"
   ]
  },
  {
   "cell_type": "code",
   "execution_count": null,
   "metadata": {},
   "outputs": [],
   "source": [
    "r = float(input('Digite o raio do círculo: '))\n",
    "\n",
    "print(f\"A área do círculo é de: {3.14*(r*r)}\")"
   ]
  },
  {
   "cell_type": "markdown",
   "metadata": {},
   "source": [
    "7. **Faça um Programa que calcule a área de um quadrado, em seguida mostre o dobro desta área para o usuário**"
   ]
  },
  {
   "cell_type": "code",
   "execution_count": null,
   "metadata": {},
   "outputs": [],
   "source": [
    "l = float(input('Digite o tamanho dos lados do quadrado: '))\n",
    "\n",
    "print(f'A área do quadrado é {l*l}, já o dobro dela é {l*l*2}')"
   ]
  },
  {
   "cell_type": "markdown",
   "metadata": {},
   "source": [
    "8. **Faça um Programa que pergunte quanto você ganha por hora e o número de horas trabalhadas no mês. Calcule e mostre o total do seu salário no referido mês.**"
   ]
  },
  {
   "cell_type": "code",
   "execution_count": null,
   "metadata": {},
   "outputs": [],
   "source": [
    "h = float(input('Quanto vale a sua hora? R$'))\n",
    "t = int(input('Quantas horas você trabalha por dia? '))\n",
    "\n",
    "print(f'\\033[34mVocê ganha: R${h*(t*30)} por mês\\033[m')"
   ]
  },
  {
   "cell_type": "markdown",
   "metadata": {},
   "source": [
    "9. **Faça um Programa que peça a temperatura em graus Fahrenheit, transforme e mostre a temperatura em graus Celsius. C = 5 * ((F-32) / 9)**"
   ]
  },
  {
   "cell_type": "code",
   "execution_count": null,
   "metadata": {},
   "outputs": [],
   "source": [
    "f = float(input('Digite a temperatura em fahrenheit: '))\n",
    "\n",
    "celsius = ((f-32)/1.8)\n",
    "print(f'A temperatura em celsius é de: {celsius}C')"
   ]
  },
  {
   "cell_type": "markdown",
   "metadata": {},
   "source": [
    "10. **Faça um Programa que peça a temperatura em graus Celsius, transforme e mostre em graus Fahrenheit. F = (C * 1,8) + 32.**"
   ]
  },
  {
   "cell_type": "code",
   "execution_count": null,
   "metadata": {},
   "outputs": [],
   "source": [
    "c = float(input('Digite a temperatura em celsius: '))\n",
    "fahrenheit = ((c*1.8)+32)\n",
    "print(f'A temperatura em Fahrenheit é de: {fahrenheit}F')"
   ]
  },
  {
   "cell_type": "markdown",
   "metadata": {},
   "source": [
    "**Estrutura de Decisão**"
   ]
  },
  {
   "cell_type": "markdown",
   "metadata": {},
   "source": [
    "1. **Faça um Programa que peça dois números e imprima o maior deles**"
   ]
  },
  {
   "cell_type": "code",
   "execution_count": 13,
   "metadata": {},
   "outputs": [
    {
     "name": "stdout",
     "output_type": "stream",
     "text": [
      "Os números 2 e 2 são iguais\n"
     ]
    }
   ],
   "source": [
    "n1 = int(input('Digite o 1° número: '))\n",
    "n2 = int(input('Digite a 2° número: '))\n",
    "\n",
    "if n1>n2:\n",
    "    print(f'O número maior é {n1}')\n",
    "elif n1<n2:\n",
    "    print(f'O número maior é {n2}')\n",
    "else:\n",
    "    print(f'Os números {n1} e {n2} são iguais')"
   ]
  },
  {
   "cell_type": "markdown",
   "metadata": {},
   "source": [
    "2. **Faça um Programa que peça um valor e mostre na tela se o valor é positivo ou negativo.**"
   ]
  },
  {
   "cell_type": "code",
   "execution_count": 12,
   "metadata": {},
   "outputs": [
    {
     "name": "stdout",
     "output_type": "stream",
     "text": [
      "O número 0 é nulo\n"
     ]
    }
   ],
   "source": [
    "n1 = int(input('Digite um número: '))\n",
    "\n",
    "if n1>0:\n",
    "    print(f'O número {n1} é positivo')\n",
    "elif n1<0:\n",
    "    print(f'O número {n1} é negativo')\n",
    "else:\n",
    "    print(f'O número {n1} é nulo')"
   ]
  },
  {
   "cell_type": "markdown",
   "metadata": {},
   "source": [
    "3. **Faça um Programa que verifique se uma letra digitada é \"F\" ou \"M\". Conforme a letra escrever: F - Feminino, M - Masculino, Sexo Inválido.**"
   ]
  },
  {
   "cell_type": "code",
   "execution_count": 20,
   "metadata": {},
   "outputs": [
    {
     "name": "stdout",
     "output_type": "stream",
     "text": [
      "M - Masculino\n"
     ]
    }
   ],
   "source": [
    "gender = str(input('Qual é o seu gênero? [F/M]').upper())\n",
    "\n",
    "if gender=='F':\n",
    "    print(f'{gender} - Feminino')\n",
    "elif gender=='M':\n",
    "    print(f'{gender} - Masculino')\n",
    "else:\n",
    "    print('Gênero inválido')"
   ]
  },
  {
   "cell_type": "markdown",
   "metadata": {},
   "source": [
    "4. **Faça um Programa que verifique se uma letra digitada é vogal ou consoante.**"
   ]
  },
  {
   "cell_type": "code",
   "execution_count": null,
   "metadata": {},
   "outputs": [],
   "source": [
    "x = str(input('Digite uma letra: ')).lower().strip()[0]\n",
    "\n",
    "if x not in 'aeiou':\n",
    "    print(f'\"{x}\" é consoante!')\n",
    "else:\n",
    "    print(f'\"{x}\" é vogal!')"
   ]
  },
  {
   "cell_type": "markdown",
   "metadata": {},
   "source": [
    "5. **Faça um programa para a leitura de duas notas parciais de um aluno. O programa deve calcular a média alcançada por aluno e apresentar:**\n",
    "6. **A mensagem \"Aprovado\", se a média alcançada for maior ou igual a sete;**\n",
    "7. **A mensagem \"Reprovado\", se a média for menor do que sete;**\n",
    "8. **A mensagem \"Aprovado com Distinção\", se a média for igual a dez.**\n"
   ]
  },
  {
   "cell_type": "code",
   "execution_count": null,
   "metadata": {},
   "outputs": [],
   "source": [
    "n1 = float(input('Digite a 1a nota: '))\n",
    "n2 = float(input('Digite a 2a nota: '))\n",
    "\n",
    "media = (n1 + n2) / 2\n",
    "\n",
    "if media >= 7 and media < 10:\n",
    "    print('Aluno aprovado')\n",
    "elif media < 7:\n",
    "    print('Aluno reprovado!')\n",
    "elif media == 10:\n",
    "    print('Aluno aprovado com distinção!')"
   ]
  },
  {
   "cell_type": "markdown",
   "metadata": {},
   "source": [
    "9. **Faça um Programa que leia três números e mostre o maior deles**"
   ]
  },
  {
   "cell_type": "code",
   "execution_count": null,
   "metadata": {},
   "outputs": [],
   "source": [
    "n1 = int(input('Digite um número: '))\n",
    "n2 = int(input('Digite outro número: '))\n",
    "n3 = int(input('Digite o último número: '))\n",
    "\n",
    "if n1 > n2 and n1 > n3:\n",
    "    print(f'O maior número é {n1}')\n",
    "elif n2 > n1 and n2 > n3:\n",
    "    print(f'O maior número é {n2}')\n",
    "elif n3 > n1 and n3 > n2:\n",
    "    print(f'O maior número é {n3}')\n",
    "else:\n",
    "    print('Números iguais')"
   ]
  },
  {
   "cell_type": "markdown",
   "metadata": {},
   "source": [
    "10. **Faça um Programa que leia três números e mostre o maior e o menor deles**"
   ]
  },
  {
   "cell_type": "code",
   "execution_count": null,
   "metadata": {},
   "outputs": [],
   "source": [
    "n1 = int(input('Digite um número: '))\n",
    "n2 = int(input('Digite outro número: '))\n",
    "n3 = int(input('Digite o último número: '))\n",
    "\n",
    "if n1 > n2 and n1 > n3:\n",
    "    print(f'O maior número é {n1}')\n",
    "    if n2 > n3:\n",
    "        print(f'E o menor é {n3}')\n",
    "    else:\n",
    "        print(f'E o menor é {n2}')\n",
    "elif n2 > n1 and n2 > n3:\n",
    "    print(f'O maior número é {n2}')\n",
    "    if n1 > n3:\n",
    "        print(f'E o menor é {n3}')\n",
    "    else:\n",
    "        print(f'E o menor é {n1}')\n",
    "elif n3 > n1 and n3 > n2:\n",
    "    print(f'O maior número é {n3}')\n",
    "    if n1 > n2:\n",
    "        print(f'E o menor é {n2}')\n",
    "    else:\n",
    "        print(f'E o menor é {n1}')\n",
    "else:\n",
    "    print('Números iguais')"
   ]
  },
  {
   "cell_type": "markdown",
   "metadata": {},
   "source": [
    "11. **Faça um programa que pergunte o preço de três produtos e informe qual produto você deve comprar, sabendo que a decisão é sempre pelo mais barato**"
   ]
  },
  {
   "cell_type": "code",
   "execution_count": null,
   "metadata": {},
   "outputs": [],
   "source": [
    "n1 = int(input(('Digite o preço do 1o produto: R$'))\n",
    "n2 = int(input('Digite o preço do 2o produto: R$'))\n",
    "n3 = int(input('Digite o preço do 3o produto: R$'))\n",
    "\n",
    "if n1 < n2 and n1 < n3:\n",
    "    print(f'Compre o primeiro produto que custa R${n1:.2f}')\n",
    "elif n2 < n1 and n2 < n3:\n",
    "    print(f'Compre o segundo produto que custa R${n2:.2f}')\n",
    "elif n3 < n1 and n3 < n2:\n",
    "    print(f'Compre o terceiro produto que custa R${n3:.2f}')\n",
    "else:\n",
    "    print('Preços iguais, escolha por você!')"
   ]
  },
  {
   "cell_type": "markdown",
   "metadata": {},
   "source": [
    "12. **Faça um Programa que leia três números e mostre-os em ordem decrescente**"
   ]
  },
  {
   "cell_type": "code",
   "execution_count": null,
   "metadata": {},
   "outputs": [],
   "source": [
    "n1 = int(input('Digite um número: '))\n",
    "n2 = int(input('Digite outro número: '))\n",
    "n3 = int(input('Digite o último número: '))\n",
    "\n",
    "if n1 > n2 and n1 > n3:\n",
    "    print(f'{n1},', end='')\n",
    "    if n2 > n3:\n",
    "        print(f' {n2}, {n3}', end='')\n",
    "    else:\n",
    "        print(f' {n3}, {n2}', end='')\n",
    "elif n2 > n1 and n2 > n3:\n",
    "    print(f'{n2},', end='')\n",
    "    if n1 > n3:\n",
    "        print(f' {n1}, {n3}', end='')\n",
    "    else:\n",
    "        print(f' {n3}, {n1}', end='')\n",
    "elif n3 > n1 and n3 > n2:\n",
    "    print(f'{n3},', end='')\n",
    "    if n1 > n2:\n",
    "        print(f' {n1}, {n2}', end='')\n",
    "    else:\n",
    "        print(f' {n2}, {n1}', end='')\n",
    "else:\n",
    "    print('Números iguais')"
   ]
  },
  {
   "cell_type": "markdown",
   "metadata": {},
   "source": [
    "13. **. Faça um Programa que pergunte em que turno você estuda. Peça para digitarM-matutino ou V-Vespertino ou N- Noturno. Imprima a mensagem \"Bom Dia!\", \"Boa Tarde!\" ou \"Boa Noite!\" ou \"Valor Inválido!\", conforme o caso.**"
   ]
  },
  {
   "cell_type": "code",
   "execution_count": null,
   "metadata": {},
   "outputs": [],
   "source": [
    "turno = input('Qual turno você estuda? [M-manhâ, V-Vespertino, N-Noite]').upper().strip()[0]\n",
    "\n",
    "if(turno=='M'):\n",
    "    print('Bom dia!')\n",
    "elif(turno=='V'):\n",
    "    print('Boa tarde!')\n",
    "elif(turno=='N'):\n",
    "    print('Boa noite!')\n",
    "else:\n",
    "    print('Valor inválido!')"
   ]
  },
  {
   "cell_type": "markdown",
   "metadata": {},
   "source": [
    "**Estrutura de repetição**"
   ]
  },
  {
   "cell_type": "markdown",
   "metadata": {},
   "source": [
    "1. **Faça um programa que peça uma nota, entre zero e dez. Mostre uma mensagem caso o valor seja inválido e continue pedindo até que o usuário informe um valor válido**"
   ]
  },
  {
   "cell_type": "code",
   "execution_count": null,
   "metadata": {},
   "outputs": [],
   "source": [
    "while True:\n",
    "    nota = float(input('Digite uma nota de zero a dez'))\n",
    "    if(0<=nota<=10):\n",
    "        print('Nota válida')\n",
    "        break\n",
    "    else:\n",
    "        print('Nota inválida, tente novamente!')"
   ]
  },
  {
   "cell_type": "markdown",
   "metadata": {},
   "source": [
    "2. **Faça um programa que leia um nome de usuário e a sua senha e não aceite a senha igual ao nome do usuário, mostrando uma mensagem de erro e voltando a pedir as informações**"
   ]
  },
  {
   "cell_type": "code",
   "execution_count": null,
   "metadata": {},
   "outputs": [],
   "source": [
    "while True:\n",
    "    user = input('Digite o nome de usuário: ')\n",
    "    passw = input('Digite sua senha: ')\n",
    "    if(user!=passw):\n",
    "        break\n",
    "    else:\n",
    "        print('ERRO, valores iguais, digite valores diferentes!')"
   ]
  },
  {
   "cell_type": "markdown",
   "metadata": {},
   "source": [
    "3. **Faça um programa que leia e valide as seguintes informações: Nome: maior que 3 caracteres; Idade: entre 0 e 150; Salário: maior que zero; Sexo: 'f' ou 'm'; Estado Civil: 's', 'c', 'v', 'd';**"
   ]
  },
  {
   "cell_type": "code",
   "execution_count": null,
   "metadata": {},
   "outputs": [],
   "source": [
    "while True: \n",
    "    name = input('Digite seu nome: ')\n",
    "    if(len(name)>3):\n",
    "        break\n",
    "\n",
    "while True: \n",
    "    age = int(input('Digite sua idade: '))\n",
    "    if(0<age<150):\n",
    "        break\n",
    "while True:\n",
    "    salary = float(input('Digite seu salário: '))\n",
    "    if(salary>0):\n",
    "        break\n",
    "while True:\n",
    "    gender = str(input('Qual é o seu gênero? [F/M]').upper())\n",
    "    if(gender=='M' or gender=='F'):\n",
    "        break\n",
    "while True:\n",
    "    civil = str(input('Qual é o seu estado civil? [S-Solteiro(a), C-Casado(a), V-Viuvo(a), D-Divorciado]').upper())\n",
    "    if(civil=='S' or gender=='C' or gender=='V' or gender=='D'):\n",
    "        break"
   ]
  },
  {
   "cell_type": "markdown",
   "metadata": {},
   "source": [
    "4. **Supondo que a população de um país A seja da ordem de 80.000 habitantes com uma taxa anual de crescimento de 3% e que a população de B seja 200.000 habitantes com uma taxa de crescimento de 1.5%. Faça um programa que calcule e escreva o número de anos necessários para que a população do país A ultrapasse ou iguale a população do país B, mantidas as taxas de crescimento.**"
   ]
  },
  {
   "cell_type": "code",
   "execution_count": null,
   "metadata": {},
   "outputs": [],
   "source": [
    "countryA = 80000\n",
    "countryB = 200000\n",
    "y = 0\n",
    "\n",
    "\n",
    "while countryA <= countryB:\n",
    "  countryA = countryA + (countryA * 0.03)\n",
    "  countryB = countryB + (countryB * 0.015)\n",
    "  y = y + 1\n",
    "\n",
    "if countryA > countryB:\n",
    "  print(f'Em {y} anos, o país A, passou o país B em habitantes')"
   ]
  },
  {
   "cell_type": "markdown",
   "metadata": {},
   "source": [
    "5. **Altere o programa anterior permitindo ao usuário informar as populações e as taxas de crescimento iniciais. Valide a entrada e permita repetir a operação**"
   ]
  },
  {
   "cell_type": "code",
   "execution_count": null,
   "metadata": {},
   "outputs": [],
   "source": [
    "countryA = int(input('Informe a quantidade de habitantes no país A'))\n",
    "taxaA = float(input('Informe a taxa de crescimento do pais A, em %: '))\n",
    "countryB = int(input('Informe a quantidade de habitantes no país B'))\n",
    "taxaB = float(input('Informe a taxa de crescimento do pais B, em %: '))\n",
    "y = 0\n",
    "\n",
    "taxaA = taxaA/100\n",
    "taxaB = taxaB/100\n",
    "\n",
    "while (countryA <= countryB):\n",
    "  countryA = countryA + (countryA * taxaA)\n",
    "  countryB = countryB + (countryB * taxaB)\n",
    "  y = y + 1\n",
    "\n",
    "if countryA > countryB:\n",
    "  print(f'Em {y} anos, o país A, passou o país B em habitantes')"
   ]
  },
  {
   "cell_type": "markdown",
   "metadata": {},
   "source": [
    "6. **Faça um programa que imprima na tela os números de 1 a 20, um abaixo do outro.Depois modifique o programa para que ele mostre os números um ao lado do outro.**"
   ]
  },
  {
   "cell_type": "code",
   "execution_count": null,
   "metadata": {},
   "outputs": [],
   "source": [
    "for i in range(0,20):\n",
    "  print(i, end=', ')"
   ]
  },
  {
   "cell_type": "markdown",
   "metadata": {},
   "source": [
    "7. **Faça um programa que leia 5 números e informe o maior número.**"
   ]
  },
  {
   "cell_type": "code",
   "execution_count": null,
   "metadata": {},
   "outputs": [],
   "source": [
    "number = []\n",
    "\n",
    "for i in range(0, 5):\n",
    "  n = int(input('Digite o número: '))\n",
    "  number.append(n)\n",
    "\n",
    "print('O maior número desses 5 é o número {:.2f}'.format(max(number)))"
   ]
  },
  {
   "cell_type": "markdown",
   "metadata": {},
   "source": [
    "8. **Faça um programa que leia 5 números e informe a soma e a média dos números.**"
   ]
  },
  {
   "cell_type": "code",
   "execution_count": null,
   "metadata": {},
   "outputs": [],
   "source": [
    "numbers = []\n",
    "soma = 0\n",
    "\n",
    "\n",
    "for i in range(1, 6):\n",
    "  n = int(input(f'Digite o {i}º número: '))\n",
    "  numbers.append(n)\n",
    "\n",
    "soma = sum(numbers)\n",
    "\n",
    "print(f'A soma dos números é igual a {soma}', end = ' ') \n",
    "print(f'e a média é igual a {soma/i}')"
   ]
  },
  {
   "cell_type": "markdown",
   "metadata": {},
   "source": [
    "9. **Faça um programa que imprima na tela apenas os números ímpares entre 1 e 50**"
   ]
  },
  {
   "cell_type": "code",
   "execution_count": null,
   "metadata": {},
   "outputs": [],
   "source": [
    "for i in range(1, 51):\n",
    "  if i % 2:\n",
    "    print(i)"
   ]
  },
  {
   "cell_type": "markdown",
   "metadata": {},
   "source": [
    "10. **Faça um programa que receba dois números inteiros e gere os números inteiros que estão no intervalo compreendido por eles.**"
   ]
  },
  {
   "cell_type": "code",
   "execution_count": null,
   "metadata": {},
   "outputs": [],
   "source": [
    "n1 = int(input('Digite um número inteiro: '))\n",
    "n2 = int(input('Digite outro número inteiro: '))\n",
    "\n",
    "for i in range(n1, n2):\n",
    "  print(i)"
   ]
  },
  {
   "cell_type": "markdown",
   "metadata": {},
   "source": [
    "**Estruturas de Listas**"
   ]
  },
  {
   "cell_type": "markdown",
   "metadata": {},
   "source": [
    "1. **Faça um Programa que leia um vetor de 5 números inteiros e mostre-os**"
   ]
  },
  {
   "cell_type": "code",
   "execution_count": null,
   "metadata": {},
   "outputs": [],
   "source": [
    "n = []\n",
    "\n",
    "for i in range(1, 6):\n",
    "  n1 = int(input(f'Digite o {i}º número: '))\n",
    "  n.append(n1)\n",
    "\n",
    "print(n)"
   ]
  },
  {
   "cell_type": "markdown",
   "metadata": {},
   "source": [
    "2. **Faça um Programa que leia um vetor de 10 números reais e mostre-os na ordem inversa.**"
   ]
  },
  {
   "cell_type": "code",
   "execution_count": null,
   "metadata": {},
   "outputs": [],
   "source": [
    "n = []\n",
    "\n",
    "for i in range(1, 11):\n",
    "  n1 = float(input(f'Digite o {i}º número: '))\n",
    "  n.append(n1)\n",
    "\n",
    "sorted(n, reverse = True)"
   ]
  },
  {
   "cell_type": "markdown",
   "metadata": {},
   "source": [
    "3. **Faça um Programa que leia 4 notas, mostre as notas e a média na tela.**"
   ]
  },
  {
   "cell_type": "code",
   "execution_count": null,
   "metadata": {},
   "outputs": [],
   "source": [
    "notas = []\n",
    "\n",
    "for i in range(1, 5):\n",
    "  n1 = float(input(f'Digite a {i}º nota: '))\n",
    "  notas.append(n1)\n",
    "\n",
    "\n",
    "print('Média = ' + str((sum(notas))/len(notas)))"
   ]
  },
  {
   "cell_type": "markdown",
   "metadata": {},
   "source": [
    "4. **Faça um Programa que leia um vetor de 10 caracteres, e diga quantas consoantes foram lidas. Imprima as consoantes.**"
   ]
  },
  {
   "cell_type": "code",
   "execution_count": null,
   "metadata": {},
   "outputs": [],
   "source": [
    "char = []\n",
    "cons = 0\n",
    "conslist = []\n",
    "\n",
    "for i in range(1, 11):\n",
    "  c1 = str(input('Digite uma letra: '))\n",
    "  char.append(c1)\n",
    "  if c1 != 'a' and c1 != 'e' and c1 != 'i' and c1 != 'o' and c1 != 'u':\n",
    "    cons = cons + 1\n",
    "    conslist.append(c1)\n",
    "\n",
    "print(f'A quantidade de consoantes é {cons}')\n",
    "print(conslist)"
   ]
  },
  {
   "cell_type": "markdown",
   "metadata": {},
   "source": [
    "5. **Faça um Programa que leia 20 números inteiros e armazene-os num vetor. Armazene os números pares no vetor PAR e os números IMPARES no vetor impar. Imprima os três vetores.**"
   ]
  },
  {
   "cell_type": "code",
   "execution_count": null,
   "metadata": {},
   "outputs": [],
   "source": [
    "numb = []\n",
    "imp = []\n",
    "par = []\n",
    "\n",
    "for i in range(1, 21):\n",
    "  n1 = int(input(f'Digite o {i} número: '))\n",
    "  numb.append(n1)\n",
    "  if n1 % 2 == 1:\n",
    "    imp.append(n1)\n",
    "  else: \n",
    "    par.append(n1)\n",
    "\n",
    "print('Vetor dos 20 números: ', numb)\n",
    "print('Vetor impar: ', imp)\n",
    "print('Vetor par: ', par)"
   ]
  },
  {
   "cell_type": "markdown",
   "metadata": {},
   "source": [
    "6. **Faça um Programa que peça as quatro notas de 10 alunos, calcule e armazene num vetor a média de cada aluno, imprima o número de alunos com média maior ou igual a 7.0**"
   ]
  },
  {
   "cell_type": "code",
   "execution_count": null,
   "metadata": {},
   "outputs": [],
   "source": [
    "notas = []\n",
    "medias = []\n",
    "mediasap = []\n",
    "alapr = 0\n",
    "\n",
    "for a in range(1, 11):\n",
    "  media = 0\n",
    "  notas = []\n",
    "  print(f'Aluno {a}')\n",
    "  for i in range(1, 5):\n",
    "      notas.append(float(input(f'Digite a {i} nota do aluno {a}: ')))\n",
    "      media = media + sum(notas)\n",
    "      media = media/4\n",
    "      if media >= 7:\n",
    "        mediasap.append(media)\n",
    "        medias.append(media)\n",
    "\n",
    "print(f'O total de alunos aprovados foi {len(mediasap)}')"
   ]
  },
  {
   "cell_type": "markdown",
   "metadata": {},
   "source": [
    "7. **Faça um Programa que leia um vetor de 5 números inteiros, mostre a soma, a multiplicação e os números**"
   ]
  },
  {
   "cell_type": "code",
   "execution_count": null,
   "metadata": {},
   "outputs": [],
   "source": [
    "from numpy import prod\n",
    "numb = []\n",
    "\n",
    "for i in range(1, 6):\n",
    "  n1 = int(input(f'Digite o número {i} '))\n",
    "  numb.append(n1)\n",
    "\n",
    "multi = numpy.prod(numb)\n",
    "print(f'A soma dos números é igual a {sum(numb)}')\n",
    "print(f'A multiplicação dos números é igual a: {multi}')\n",
    "print(numb)"
   ]
  },
  {
   "cell_type": "markdown",
   "metadata": {},
   "source": [
    "8. **Faça um Programa que peça a idade e a altura de 5 pessoas, armazene cada informação no seu respectivo vetor. Imprima a idade e a altura na ordem inversa a ordem lida.**"
   ]
  },
  {
   "cell_type": "code",
   "execution_count": null,
   "metadata": {},
   "outputs": [],
   "source": [
    "age = []\n",
    "height = []\n",
    "\n",
    "for i in range(1, 6):\n",
    "  a = int(input(f'Digite a idade da pessoa {i}: '))\n",
    "  age.append(a)\n",
    "  h = float(input(f'Digite a altura da pessoa {i} em metros: '))\n",
    "  height.append(h)\n",
    "\n",
    "nlist1 = list(reversed(age))\n",
    "nlist2 = list(reversed(height))\n",
    "\n",
    "print(nlist1)\n",
    "print(nlist2)"
   ]
  },
  {
   "cell_type": "markdown",
   "metadata": {},
   "source": [
    "9. **Faça um Programa que leia um vetor A com 10 números inteiros, calcule e mostre a soma dos quadrados dos elementos do vetor.**"
   ]
  },
  {
   "cell_type": "code",
   "execution_count": null,
   "metadata": {},
   "outputs": [],
   "source": [
    "numbers = []\n",
    "\n",
    "for i in range(0, 10):\n",
    "  n1 = int(input('Digite o número: '))\n",
    "  result = n1 * n1\n",
    "  numbers.append(result)\n",
    "\n",
    "print(f'O resultado final é: {sum(numbers)}')"
   ]
  },
  {
   "cell_type": "markdown",
   "metadata": {},
   "source": [
    "10. **Faça um Programa que leia dois vetores com 10 elementos cada. Gere um terceiro vetor de 20 elementos, cujos valores deverão ser compostos pelos elementos intercalados dos dois outros vetores**"
   ]
  },
  {
   "cell_type": "code",
   "execution_count": null,
   "metadata": {},
   "outputs": [],
   "source": [
    "numbers = []\n",
    "numbers1 = []\n",
    "numbersintercall = []\n",
    "\n",
    "for i in range(0, 10):\n",
    "  n1 = input('Digite algo: ')\n",
    "  numbers.append(n1)\n",
    "\n",
    "for a in range(0, 10):\n",
    "  n2 = input('Digite algo: ')\n",
    "  numbers1.append(n2)\n",
    "\n",
    "for o in range(0, 10):\n",
    "  numbersintercall.append(numbers[o])\n",
    "  numbersintercall.append(numbers1[o])"
   ]
  }
 ],
 "metadata": {
  "kernelspec": {
   "display_name": "Python 3.10.8 64-bit (microsoft store)",
   "language": "python",
   "name": "python3"
  },
  "language_info": {
   "codemirror_mode": {
    "name": "ipython",
    "version": 3
   },
   "file_extension": ".py",
   "mimetype": "text/x-python",
   "name": "python",
   "nbconvert_exporter": "python",
   "pygments_lexer": "ipython3",
   "version": "3.10.9 (tags/v3.10.9:1dd9be6, Dec  6 2022, 20:01:21) [MSC v.1934 64 bit (AMD64)]"
  },
  "orig_nbformat": 4,
  "vscode": {
   "interpreter": {
    "hash": "d6f154a560802d64277e424ab716cbb72e450074a8138f9ecd5efb59b2418ec4"
   }
  }
 },
 "nbformat": 4,
 "nbformat_minor": 2
}

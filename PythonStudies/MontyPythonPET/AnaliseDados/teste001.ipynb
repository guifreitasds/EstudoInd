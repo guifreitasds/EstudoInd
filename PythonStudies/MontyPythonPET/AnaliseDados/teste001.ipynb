{
 "cells": [
  {
   "cell_type": "code",
   "execution_count": 7,
   "metadata": {},
   "outputs": [
    {
     "data": {
      "text/html": [
       "<div>\n",
       "<style scoped>\n",
       "    .dataframe tbody tr th:only-of-type {\n",
       "        vertical-align: middle;\n",
       "    }\n",
       "\n",
       "    .dataframe tbody tr th {\n",
       "        vertical-align: top;\n",
       "    }\n",
       "\n",
       "    .dataframe thead th {\n",
       "        text-align: right;\n",
       "    }\n",
       "</style>\n",
       "<table border=\"1\" class=\"dataframe\">\n",
       "  <thead>\n",
       "    <tr style=\"text-align: right;\">\n",
       "      <th></th>\n",
       "      <th>ano</th>\n",
       "      <th>sigla_uf</th>\n",
       "      <th>id_municipio</th>\n",
       "      <th>populacao</th>\n",
       "    </tr>\n",
       "  </thead>\n",
       "  <tbody>\n",
       "    <tr>\n",
       "      <th>0</th>\n",
       "      <td>1991</td>\n",
       "      <td>RO</td>\n",
       "      <td>1100015</td>\n",
       "      <td>31981.0</td>\n",
       "    </tr>\n",
       "    <tr>\n",
       "      <th>1</th>\n",
       "      <td>1992</td>\n",
       "      <td>RO</td>\n",
       "      <td>1100015</td>\n",
       "      <td>34768.0</td>\n",
       "    </tr>\n",
       "    <tr>\n",
       "      <th>2</th>\n",
       "      <td>1993</td>\n",
       "      <td>RO</td>\n",
       "      <td>1100015</td>\n",
       "      <td>37036.0</td>\n",
       "    </tr>\n",
       "    <tr>\n",
       "      <th>3</th>\n",
       "      <td>1994</td>\n",
       "      <td>RO</td>\n",
       "      <td>1100015</td>\n",
       "      <td>39325.0</td>\n",
       "    </tr>\n",
       "    <tr>\n",
       "      <th>4</th>\n",
       "      <td>1995</td>\n",
       "      <td>RO</td>\n",
       "      <td>1100015</td>\n",
       "      <td>41574.0</td>\n",
       "    </tr>\n",
       "    <tr>\n",
       "      <th>...</th>\n",
       "      <td>...</td>\n",
       "      <td>...</td>\n",
       "      <td>...</td>\n",
       "      <td>...</td>\n",
       "    </tr>\n",
       "    <tr>\n",
       "      <th>168813</th>\n",
       "      <td>2017</td>\n",
       "      <td>DF</td>\n",
       "      <td>5300108</td>\n",
       "      <td>3039444.0</td>\n",
       "    </tr>\n",
       "    <tr>\n",
       "      <th>168814</th>\n",
       "      <td>2018</td>\n",
       "      <td>DF</td>\n",
       "      <td>5300108</td>\n",
       "      <td>2974703.0</td>\n",
       "    </tr>\n",
       "    <tr>\n",
       "      <th>168815</th>\n",
       "      <td>2019</td>\n",
       "      <td>DF</td>\n",
       "      <td>5300108</td>\n",
       "      <td>3015268.0</td>\n",
       "    </tr>\n",
       "    <tr>\n",
       "      <th>168816</th>\n",
       "      <td>2020</td>\n",
       "      <td>DF</td>\n",
       "      <td>5300108</td>\n",
       "      <td>3055149.0</td>\n",
       "    </tr>\n",
       "    <tr>\n",
       "      <th>168817</th>\n",
       "      <td>2021</td>\n",
       "      <td>DF</td>\n",
       "      <td>5300108</td>\n",
       "      <td>3094325.0</td>\n",
       "    </tr>\n",
       "  </tbody>\n",
       "</table>\n",
       "<p>168818 rows × 4 columns</p>\n",
       "</div>"
      ],
      "text/plain": [
       "         ano sigla_uf  id_municipio  populacao\n",
       "0       1991       RO       1100015    31981.0\n",
       "1       1992       RO       1100015    34768.0\n",
       "2       1993       RO       1100015    37036.0\n",
       "3       1994       RO       1100015    39325.0\n",
       "4       1995       RO       1100015    41574.0\n",
       "...      ...      ...           ...        ...\n",
       "168813  2017       DF       5300108  3039444.0\n",
       "168814  2018       DF       5300108  2974703.0\n",
       "168815  2019       DF       5300108  3015268.0\n",
       "168816  2020       DF       5300108  3055149.0\n",
       "168817  2021       DF       5300108  3094325.0\n",
       "\n",
       "[168818 rows x 4 columns]"
      ]
     },
     "metadata": {},
     "output_type": "display_data"
    }
   ],
   "source": [
    "# Passo 1 - Importar a base de dados para o Python\n",
    "\n",
    "import pandas as pd\n",
    "\n",
    "table = pd.read_csv(\"municipio.csv\")\n",
    "display(table)"
   ]
  },
  {
   "cell_type": "code",
   "execution_count": 8,
   "metadata": {},
   "outputs": [
    {
     "name": "stdout",
     "output_type": "stream",
     "text": [
      "<class 'pandas.core.frame.DataFrame'>\n",
      "RangeIndex: 168818 entries, 0 to 168817\n",
      "Data columns (total 4 columns):\n",
      " #   Column        Non-Null Count   Dtype  \n",
      "---  ------        --------------   -----  \n",
      " 0   ano           168818 non-null  int64  \n",
      " 1   sigla_uf      168818 non-null  object \n",
      " 2   id_municipio  168818 non-null  int64  \n",
      " 3   populacao     168284 non-null  float64\n",
      "dtypes: float64(1), int64(2), object(1)\n",
      "memory usage: 5.2+ MB\n"
     ]
    }
   ],
   "source": [
    "# Passo 2 - Visualizar a bd (Entender informações e Corrigir os erros da base)\n",
    "\n",
    "table.info()\n",
    "\n"
   ]
  },
  {
   "cell_type": "code",
   "execution_count": 9,
   "metadata": {},
   "outputs": [
    {
     "name": "stdout",
     "output_type": "stream",
     "text": [
      "<class 'pandas.core.frame.DataFrame'>\n",
      "Int64Index: 168284 entries, 0 to 168817\n",
      "Data columns (total 4 columns):\n",
      " #   Column        Non-Null Count   Dtype  \n",
      "---  ------        --------------   -----  \n",
      " 0   ano           168284 non-null  int64  \n",
      " 1   sigla_uf      168284 non-null  object \n",
      " 2   id_municipio  168284 non-null  int64  \n",
      " 3   populacao     168284 non-null  float64\n",
      "dtypes: float64(1), int64(2), object(1)\n",
      "memory usage: 6.4+ MB\n"
     ]
    }
   ],
   "source": [
    "# Passo 3 - Tratar os dados\n",
    "\n",
    "table = table.dropna(how='any', axis=0)\n",
    "table.info()\n",
    "\n"
   ]
  },
  {
   "cell_type": "code",
   "execution_count": 12,
   "metadata": {},
   "outputs": [
    {
     "name": "stdout",
     "output_type": "stream",
     "text": [
      "MG    0.153479\n",
      "SP    0.117789\n",
      "RS    0.087721\n",
      "BA    0.076698\n",
      "PR    0.072217\n",
      "SC    0.052661\n",
      "GO    0.044597\n",
      "PB    0.039225\n",
      "PI    0.038245\n",
      "MA    0.037086\n",
      "CE    0.033859\n",
      "PE    0.033741\n",
      "RN    0.030205\n",
      "PA    0.025724\n",
      "TO    0.024774\n",
      "MT    0.024595\n",
      "AL    0.018677\n",
      "RJ    0.016466\n",
      "MS    0.014321\n",
      "ES    0.014071\n",
      "SE    0.013810\n",
      "AM    0.011421\n",
      "RO    0.009050\n",
      "AC    0.003993\n",
      "AP    0.002876\n",
      "RR    0.002514\n",
      "DF    0.000184\n",
      "Name: sigla_uf, dtype: float64\n"
     ]
    }
   ],
   "source": [
    "# Passo 4 - Análise simples (entender como está acontecendo o problema a ser resolvido)\n",
    "\n",
    "print(table[\"sigla_uf\"].value_counts(normalize=True))\n"
   ]
  },
  {
   "cell_type": "code",
   "execution_count": null,
   "metadata": {},
   "outputs": [],
   "source": [
    "# Passo 5 - Análise completa (Pensar em soluções para o problema com os dados disponíveis)\n",
    "import plotly.express as px\n",
    "\n",
    "\n",
    "grafic = px.histogram(table, x=\"sigla_uf\")"
   ]
  }
 ],
 "metadata": {
  "kernelspec": {
   "display_name": "Python 3.10.8 64-bit (microsoft store)",
   "language": "python",
   "name": "python3"
  },
  "language_info": {
   "codemirror_mode": {
    "name": "ipython",
    "version": 3
   },
   "file_extension": ".py",
   "mimetype": "text/x-python",
   "name": "python",
   "nbconvert_exporter": "python",
   "pygments_lexer": "ipython3",
   "version": "3.10.9"
  },
  "orig_nbformat": 4,
  "vscode": {
   "interpreter": {
    "hash": "d6f154a560802d64277e424ab716cbb72e450074a8138f9ecd5efb59b2418ec4"
   }
  }
 },
 "nbformat": 4,
 "nbformat_minor": 2
}

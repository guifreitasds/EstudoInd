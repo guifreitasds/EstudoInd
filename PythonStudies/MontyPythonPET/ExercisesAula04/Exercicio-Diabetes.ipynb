{
 "cells": [
  {
   "cell_type": "markdown",
   "id": "037df483",
   "metadata": {},
   "source": [
    "# Importe o dataset de Diabetes"
   ]
  },
  {
   "cell_type": "markdown",
   "id": "21e212d9",
   "metadata": {},
   "source": [
    "Link para exportar o dataset: https://www.kaggle.com/datasets/whenamancodes/predict-diabities"
   ]
  },
  {
   "cell_type": "markdown",
   "id": "aa2af8b9",
   "metadata": {},
   "source": [
    "Dica traduza a página do kaggle para saber quais nomes das colunas estão sendo utilizados "
   ]
  },
  {
   "cell_type": "code",
   "execution_count": null,
   "id": "245241f4",
   "metadata": {},
   "outputs": [],
   "source": [
    "import pandas as pd\n",
    "import seaborn as sns"
   ]
  },
  {
   "cell_type": "code",
   "execution_count": null,
   "id": "70546a9f",
   "metadata": {},
   "outputs": [],
   "source": []
  },
  {
   "cell_type": "markdown",
   "id": "0b94d721",
   "metadata": {},
   "source": [
    "# Mostre o dataset"
   ]
  },
  {
   "cell_type": "code",
   "execution_count": null,
   "id": "5edcc058",
   "metadata": {},
   "outputs": [],
   "source": [
    "table = pd.read_csv('diabetes.csv')\n",
    "\n",
    "display(table)"
   ]
  },
  {
   "cell_type": "markdown",
   "id": "1441b7b3",
   "metadata": {},
   "source": [
    "# Informe o tamanho do dataset\n"
   ]
  },
  {
   "cell_type": "code",
   "execution_count": null,
   "id": "a46fa7c0",
   "metadata": {},
   "outputs": [],
   "source": []
  },
  {
   "cell_type": "code",
   "execution_count": null,
   "id": "2365188f",
   "metadata": {},
   "outputs": [],
   "source": []
  },
  {
   "cell_type": "markdown",
   "id": "6b4d1e5d",
   "metadata": {},
   "source": [
    "# Informe quem tem maior e menor idade"
   ]
  },
  {
   "cell_type": "code",
   "execution_count": null,
   "id": "95a6d3c5",
   "metadata": {},
   "outputs": [],
   "source": []
  },
  {
   "cell_type": "code",
   "execution_count": null,
   "id": "e8a777d9",
   "metadata": {},
   "outputs": [],
   "source": []
  },
  {
   "cell_type": "markdown",
   "id": "1faad02a",
   "metadata": {},
   "source": [
    "# Usando a biblioteca seaborn visualize a coluna que mostra o resultado"
   ]
  },
  {
   "cell_type": "code",
   "execution_count": null,
   "id": "9fabff49",
   "metadata": {},
   "outputs": [],
   "source": []
  },
  {
   "cell_type": "code",
   "execution_count": null,
   "id": "ba69511d",
   "metadata": {},
   "outputs": [],
   "source": []
  },
  {
   "cell_type": "code",
   "execution_count": null,
   "id": "c7d63415",
   "metadata": {},
   "outputs": [],
   "source": []
  }
 ],
 "metadata": {
  "kernelspec": {
   "display_name": "Python 3.10.x 64-bit (microsoft store)",
   "language": "python",
   "name": "python3"
  },
  "language_info": {
   "codemirror_mode": {
    "name": "ipython",
    "version": 3
   },
   "file_extension": ".py",
   "mimetype": "text/x-python",
   "name": "python",
   "nbconvert_exporter": "python",
   "pygments_lexer": "ipython3",
   "version": "3.10"
  },
  "vscode": {
   "interpreter": {
    "hash": "d6f154a560802d64277e424ab716cbb72e450074a8138f9ecd5efb59b2418ec4"
   }
  }
 },
 "nbformat": 4,
 "nbformat_minor": 5
}
